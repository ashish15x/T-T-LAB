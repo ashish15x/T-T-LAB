{
 "cells": [
  {
   "cell_type": "code",
   "execution_count": 3,
   "metadata": {},
   "outputs": [
    {
     "name": "stdout",
     "output_type": "stream",
     "text": [
      "Correlation coefficient: 1.0\n",
      "Intercept: 7.105427357601002e-15\n",
      "Coefficient: 0.04999999999999999\n"
     ]
    }
   ],
   "source": [
    "from sklearn.linear_model import LinearRegression\n",
    "\n",
    "\n",
    "import matplotlib.pyplot as plt\n",
    "import numpy as np\n",
    "\n",
    "money_spent = [100, 200, 300, 400, 500, 600, 700, 800, 900, 1000]\n",
    "grocery_trips = [5, 10, 15, 20, 25, 30, 35, 40, 45, 50]\n",
    "\n",
    "corr_coef = np.corrcoef(money_spent, grocery_trips)[0, 1]\n",
    "print('Correlation coefficient:', corr_coef)\n",
    "\n",
    "X = np.array(money_spent).reshape(-1, 1)\n",
    "y = np.array(grocery_trips)\n",
    "\n",
    "model = LinearRegression().fit(X, y)\n",
    "\n",
    "print('Intercept:', model.intercept_)\n",
    "print('Coefficient:', model.coef_[0])\n"
   ]
  }
 ],
 "metadata": {
  "kernelspec": {
   "display_name": "Python 3",
   "language": "python",
   "name": "python3"
  },
  "language_info": {
   "codemirror_mode": {
    "name": "ipython",
    "version": 3
   },
   "file_extension": ".py",
   "mimetype": "text/x-python",
   "name": "python",
   "nbconvert_exporter": "python",
   "pygments_lexer": "ipython3",
   "version": "3.10.11"
  },
  "orig_nbformat": 4
 },
 "nbformat": 4,
 "nbformat_minor": 2
}
